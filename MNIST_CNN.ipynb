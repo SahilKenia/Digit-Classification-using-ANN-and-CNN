{
  "nbformat": 4,
  "nbformat_minor": 0,
  "metadata": {
    "colab": {
      "provenance": []
    },
    "kernelspec": {
      "name": "python3",
      "display_name": "Python 3"
    },
    "language_info": {
      "name": "python"
    }
  },
  "cells": [
    {
      "cell_type": "code",
      "execution_count": null,
      "metadata": {
        "id": "Bhs5T9k5meR-"
      },
      "outputs": [],
      "source": [
        "import numpy as np\n",
        "import pandas as pd\n",
        "\n",
        "import tensorflow as tf\n",
        "from keras.datasets import mnist\n",
        "from tensorflow.keras.models import Sequential\n",
        "from tensorflow.keras.layers import Conv2D, MaxPooling2D, Flatten, Dense, Dropout\n",
        "from tensorflow.keras.utils import to_categorical\n",
        "import matplotlib.pyplot as plt\n",
        "import numpy as np\n",
        "import os"
      ]
    },
    {
      "cell_type": "code",
      "source": [
        "(train_images, train_labels), (test_images, test_labels) = mnist.load_data()\n",
        "train_images, test_images = train_images / 255.0, test_images / 255.0"
      ],
      "metadata": {
        "id": "UtdeuB5KmvFv"
      },
      "execution_count": null,
      "outputs": []
    },
    {
      "cell_type": "code",
      "source": [
        "random_index = np.random.randint(0,len(train_images))\n",
        "random_image = train_images[random_index]\n",
        "random_label = train_labels[random_index]"
      ],
      "metadata": {
        "id": "ft53c5Uamyd0"
      },
      "execution_count": null,
      "outputs": []
    },
    {
      "cell_type": "code",
      "source": [
        "plt.imshow(random_image)\n",
        "plt.axis('off')\n",
        "plt.show()"
      ],
      "metadata": {
        "colab": {
          "base_uri": "https://localhost:8080/",
          "height": 406
        },
        "id": "eaTct32fm04v",
        "outputId": "9d869ef7-edce-484a-fbd7-b16704867d36"
      },
      "execution_count": null,
      "outputs": [
        {
          "output_type": "display_data",
          "data": {
            "text/plain": [
              "<Figure size 640x480 with 1 Axes>"
            ],
            "image/png": "[encoded data removed]"
          },
          "metadata": {}
        }
      ]
    },
    {
      "cell_type": "code",
      "source": [
        "random_image.shape"
      ],
      "metadata": {
        "colab": {
          "base_uri": "https://localhost:8080/"
        },
        "id": "_6gCJ7_Pm2lC",
        "outputId": "4446c2d6-ff7d-454b-8185-829e1262b4e8"
      },
      "execution_count": null,
      "outputs": [
        {
          "output_type": "execute_result",
          "data": {
            "text/plain": [
              "(28, 28)"
            ]
          },
          "metadata": {},
          "execution_count": 23
        }
      ]
    },
    {
      "cell_type": "code",
      "source": [
        "# Selecting 12 random images\n",
        "num_samples = 12\n",
        "random_indices = np.random.choice(train_images.shape[0], num_samples, replace=False)\n",
        "sample_images = train_images[random_indices]\n",
        "sample_labels = train_labels[random_indices]"
      ],
      "metadata": {
        "id": "idXLNxlsm6Jo"
      },
      "execution_count": null,
      "outputs": []
    },
    {
      "cell_type": "code",
      "source": [
        "sample_labels"
      ],
      "metadata": {
        "colab": {
          "base_uri": "https://localhost:8080/"
        },
        "id": "W8QSFIOom8I4",
        "outputId": "c3754065-a049-45e0-b896-4e2dc05582fb"
      },
      "execution_count": null,
      "outputs": [
        {
          "output_type": "execute_result",
          "data": {
            "text/plain": [
              "array([1, 8, 9, 8, 5, 9, 3, 1, 8, 0, 8, 1], dtype=uint8)"
            ]
          },
          "metadata": {},
          "execution_count": 26
        }
      ]
    },
    {
      "cell_type": "code",
      "source": [
        "# Plotting\n",
        "plt.figure(figsize=(10, 10))\n",
        "for i in range(num_samples):\n",
        "    plt.subplot(4, 4, i + 1)\n",
        "    plt.imshow(sample_images[i])\n",
        "    # plt.title(i)\n",
        "\n",
        "\n",
        "    plt.title(int(sample_labels[i]))  # sample_labels[i][0] is an index within the range of labels\n",
        "    plt.axis('off')\n",
        "plt.tight_layout()\n",
        "plt.show()"
      ],
      "metadata": {
        "colab": {
          "base_uri": "https://localhost:8080/",
          "height": 760
        },
        "id": "UAhj83qlm9eX",
        "outputId": "a4944a11-8133-41ec-ad2f-6b00370882e0"
      },
      "execution_count": null,
      "outputs": [
        {
          "output_type": "display_data",
          "data": {
            "text/plain": [
              "<Figure size 1000x1000 with 12 Axes>"
            ],
            "image/png": "[encoded data removed]"
          },
          "metadata": {}
        }
      ]
    },
    {
      "cell_type": "code",
      "source": [
        "train_labels = to_categorical(train_labels)\n",
        "test_labels = to_categorical(test_labels)"
      ],
      "metadata": {
        "id": "KBGnNDcSm_HJ"
      },
      "execution_count": null,
      "outputs": []
    },
    {
      "cell_type": "code",
      "source": [
        "train_images.shape"
      ],
      "metadata": {
        "colab": {
          "base_uri": "https://localhost:8080/"
        },
        "id": "7xdYs8dPnAwG",
        "outputId": "1b372d8e-6854-45f2-85e9-69274d38c82e"
      },
      "execution_count": null,
      "outputs": [
        {
          "output_type": "execute_result",
          "data": {
            "text/plain": [
              "(60000, 28, 28)"
            ]
          },
          "metadata": {},
          "execution_count": 29
        }
      ]
    },
    {
      "cell_type": "code",
      "source": [
        "# Convolutional Neural Network Model\n",
        "model = tf.keras.models.Sequential([\n",
        "    # Ist Convolutional Layer\n",
        "    tf.keras.layers.Conv2D(32, (3, 3), strides=(1, 1), activation='relu', input_shape=(28, 28, 1)),\n",
        "    tf.keras.layers.MaxPooling2D((2, 2)),\n",
        "\n",
        "    # 2nd convolutional layer\n",
        "    tf.keras.layers.Conv2D(64, (3, 3), strides=(1, 1), activation='relu'),\n",
        "    tf.keras.layers.MaxPooling2D((2, 2)),\n",
        "\n",
        "    # ANN\n",
        "    tf.keras.layers.Flatten(),\n",
        "    tf.keras.layers.Dense(32, activation='relu'),\n",
        "    tf.keras.layers.Dense(10, activation='softmax')\n",
        "])"
      ],
      "metadata": {
        "id": "3DIGxHqTnB-0"
      },
      "execution_count": null,
      "outputs": []
    },
    {
      "cell_type": "code",
      "source": [
        "# Modeling\n",
        "model.compile(optimizer='adam', loss='categorical_crossentropy', metrics=['accuracy'])"
      ],
      "metadata": {
        "id": "5EMCGYP7nEm5"
      },
      "execution_count": null,
      "outputs": []
    },
    {
      "cell_type": "code",
      "source": [
        "history = model.fit(train_images, train_labels, epochs=10, batch_size=64, validation_data=(test_images, test_labels))"
      ],
      "metadata": {
        "colab": {
          "base_uri": "https://localhost:8080/"
        },
        "id": "6zkmRjfMnHIa",
        "outputId": "bb26e3f3-a602-471c-e7ec-eb0c4264bc13"
      },
      "execution_count": null,
      "outputs": [
        {
          "output_type": "stream",
          "name": "stdout",
          "text": [
            "Epoch 1/10\n",
            "938/938 [==============================] - 48s 50ms/step - loss: 0.2068 - accuracy: 0.9366 - val_loss: 0.0742 - val_accuracy: 0.9775\n",
            "Epoch 2/10\n",
            "938/938 [==============================] - 44s 47ms/step - loss: 0.0597 - accuracy: 0.9816 - val_loss: 0.0421 - val_accuracy: 0.9860\n",
            "Epoch 3/10\n",
            "938/938 [==============================] - 45s 47ms/step - loss: 0.0438 - accuracy: 0.9863 - val_loss: 0.0411 - val_accuracy: 0.9862\n",
            "Epoch 4/10\n",
            "938/938 [==============================] - 45s 48ms/step - loss: 0.0332 - accuracy: 0.9896 - val_loss: 0.0325 - val_accuracy: 0.9899\n",
            "Epoch 5/10\n",
            "938/938 [==============================] - 47s 50ms/step - loss: 0.0280 - accuracy: 0.9913 - val_loss: 0.0325 - val_accuracy: 0.9906\n",
            "Epoch 6/10\n",
            "938/938 [==============================] - 43s 46ms/step - loss: 0.0229 - accuracy: 0.9930 - val_loss: 0.0297 - val_accuracy: 0.9911\n",
            "Epoch 7/10\n",
            "938/938 [==============================] - 44s 47ms/step - loss: 0.0195 - accuracy: 0.9935 - val_loss: 0.0308 - val_accuracy: 0.9904\n",
            "Epoch 8/10\n",
            "938/938 [==============================] - 47s 50ms/step - loss: 0.0153 - accuracy: 0.9950 - val_loss: 0.0371 - val_accuracy: 0.9887\n",
            "Epoch 9/10\n",
            "938/938 [==============================] - 43s 46ms/step - loss: 0.0134 - accuracy: 0.9957 - val_loss: 0.0367 - val_accuracy: 0.9890\n",
            "Epoch 10/10\n",
            "938/938 [==============================] - 43s 46ms/step - loss: 0.0113 - accuracy: 0.9961 - val_loss: 0.0286 - val_accuracy: 0.9916\n"
          ]
        }
      ]
    },
    {
      "cell_type": "code",
      "source": [
        "model.summary()"
      ],
      "metadata": {
        "colab": {
          "base_uri": "https://localhost:8080/"
        },
        "id": "hlKO0jkinInZ",
        "outputId": "1a94eefd-a391-4dea-f287-3381301c7380"
      },
      "execution_count": null,
      "outputs": [
        {
          "output_type": "stream",
          "name": "stdout",
          "text": [
            "Model: \"sequential_1\"\n",
            "_________________________________________________________________\n",
            " Layer (type)                Output Shape              Param #   \n",
            "=================================================================\n",
            " conv2d_2 (Conv2D)           (None, 26, 26, 32)        320       \n",
            "                                                                 \n",
            " max_pooling2d_2 (MaxPoolin  (None, 13, 13, 32)        0         \n",
            " g2D)                                                            \n",
            "                                                                 \n",
            " conv2d_3 (Conv2D)           (None, 11, 11, 64)        18496     \n",
            "                                                                 \n",
            " max_pooling2d_3 (MaxPoolin  (None, 5, 5, 64)          0         \n",
            " g2D)                                                            \n",
            "                                                                 \n",
            " flatten_1 (Flatten)         (None, 1600)              0         \n",
            "                                                                 \n",
            " dense_2 (Dense)             (None, 32)                51232     \n",
            "                                                                 \n",
            " dense_3 (Dense)             (None, 10)                330       \n",
            "                                                                 \n",
            "=================================================================\n",
            "Total params: 70378 (274.91 KB)\n",
            "Trainable params: 70378 (274.91 KB)\n",
            "Non-trainable params: 0 (0.00 Byte)\n",
            "_________________________________________________________________\n"
          ]
        }
      ]
    },
    {
      "cell_type": "code",
      "source": [
        "loss,accuracy = model.evaluate(train_images,train_labels)\n",
        "print(f\"The model accuracy is : {accuracy} \\n the model loss : {loss}\")"
      ],
      "metadata": {
        "colab": {
          "base_uri": "https://localhost:8080/"
        },
        "id": "a7z91k9hnNmt",
        "outputId": "409ce903-4aa3-4398-956c-f84df97db60a"
      },
      "execution_count": null,
      "outputs": [
        {
          "output_type": "stream",
          "name": "stdout",
          "text": [
            "1875/1875 [==============================] - 16s 8ms/step - loss: 0.0064 - accuracy: 0.9981\n",
            "The model accuracy is : 0.9980833530426025 \n",
            " the model loss : 0.006434648297727108\n"
          ]
        }
      ]
    },
    {
      "cell_type": "code",
      "source": [
        "# Graph\n",
        "\n",
        "plt.plot(history.history['accuracy'],label='Training Accuracy')\n",
        "plt.plot(history.history['val_accuracy'], label = 'Validation Accuracy')\n",
        "plt.xlabel(\"Epochs\")\n",
        "plt.ylabel('Accuracy')\n",
        "plt.legend()\n",
        "plt.show()"
      ],
      "metadata": {
        "colab": {
          "base_uri": "https://localhost:8080/",
          "height": 449
        },
        "id": "0vn0mqIRnNja",
        "outputId": "540f49ee-188f-42f2-8953-69aeffe3c2b6"
      },
      "execution_count": null,
      "outputs": [
        {
          "output_type": "display_data",
          "data": {
            "text/plain": [
              "<Figure size 640x480 with 1 Axes>"
            ],
            "image/png": "[encoded data removed]"
          },
          "metadata": {}
        }
      ]
    },
    {
      "cell_type": "code",
      "source": [],
      "metadata": {
        "id": "m83aFiT6nNeg"
      },
      "execution_count": null,
      "outputs": []
    },
    {
      "cell_type": "code",
      "source": [],
      "metadata": {
        "id": "bjRRc_kjnNcS"
      },
      "execution_count": null,
      "outputs": []
    }
  ]
}